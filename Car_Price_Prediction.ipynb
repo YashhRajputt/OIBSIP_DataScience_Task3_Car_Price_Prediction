{
 "cells": [
  {
   "cell_type": "markdown",
   "id": "804eed0c",
   "metadata": {},
   "source": [
    "# Car Price Prediction\n",
    "\n",
    "Predict used car selling price using features like year, present price, kilometers driven, fuel type, seller type, transmission, and owner.\n"
   ]
  },
  {
   "cell_type": "code",
   "execution_count": null,
   "id": "98e6656b",
   "metadata": {},
   "outputs": [],
   "source": [
    "import pandas as pd\n",
    "\n",
    "# Load dataset\n",
    "df = pd.read_csv('car data.csv')\n",
    "df.head()"
   ]
  },
  {
   "cell_type": "code",
   "execution_count": null,
   "id": "c49ee67e",
   "metadata": {},
   "outputs": [],
   "source": [
    "# Basic info\n",
    "print('Shape:', df.shape)\n",
    "print('\\nColumns:', df.columns.tolist())\n",
    "print('\\nMissing values:\\n', df.isnull().sum())\n"
   ]
  },
  {
   "cell_type": "code",
   "execution_count": null,
   "id": "d9a0a76e",
   "metadata": {},
   "outputs": [],
   "source": [
    "# Feature engineering\n",
    "# Create Car_Age from Year (assuming dataset year is up to 2020)\n",
    "df['Car_Age'] = 2020 - df['Year']\n",
    "# Drop Year and Car_Name (we'll use Car_Age instead of Year and ignore names)\n",
    "df = df.drop(['Year', 'Car_Name'], axis=1)\n",
    "# Reorder\n",
    "cols = ['Selling_Price', 'Present_Price', 'Driven_kms', 'Owner', 'Car_Age', 'Fuel_Type', 'Selling_type', 'Transmission']\n",
    "df = df[cols]\n",
    "df.head()"
   ]
  },
  {
   "cell_type": "code",
   "execution_count": null,
   "id": "47a5434a",
   "metadata": {},
   "outputs": [],
   "source": [
    "import matplotlib.pyplot as plt\n",
    "import seaborn as sns\n",
    "\n",
    "# Distribution of target\n",
    "plt.figure(figsize=(6,4))\n",
    "sns.histplot(df['Selling_Price'], kde=True)\n",
    "plt.title('Distribution of Selling Price')\n",
    "plt.show()\n",
    "\n",
    "# Correlation heatmap\n",
    "plt.figure(figsize=(8,6))\n",
    "sns.heatmap(df.corr(), annot=True, fmt='.2f')\n",
    "plt.title('Correlation Matrix')\n",
    "plt.show()\n"
   ]
  },
  {
   "cell_type": "code",
   "execution_count": null,
   "id": "d9303507",
   "metadata": {},
   "outputs": [],
   "source": [
    "# One-hot encode categorical variables\n",
    "df_encoded = pd.get_dummies(df, drop_first=True)\n",
    "\n",
    "# Features and target\n",
    "X = df_encoded.drop('Selling_Price', axis=1)\n",
    "y = df_encoded['Selling_Price']\n",
    "\n",
    "from sklearn.model_selection import train_test_split\n",
    "X_train, X_test, y_train, y_test = train_test_split(X, y, test_size=0.2, random_state=42)\n",
    "\n",
    "print('X_train shape:', X_train.shape)\n"
   ]
  },
  {
   "cell_type": "code",
   "execution_count": null,
   "id": "4989eaf1",
   "metadata": {},
   "outputs": [],
   "source": [
    "from sklearn.linear_model import LinearRegression\n",
    "from sklearn.ensemble import RandomForestRegressor\n",
    "from sklearn.metrics import mean_absolute_error, mean_squared_error, r2_score\n",
    "import numpy as np\n",
    "\n",
    "# Train Linear Regression\n",
    "lr = LinearRegression()\n",
    "lr.fit(X_train, y_train)\n",
    "\n",
    "# Train Random Forest\n",
    "rf = RandomForestRegressor(n_estimators=100, random_state=42)\n",
    "rf.fit(X_train, y_train)\n",
    "\n",
    "# Predictions\n",
    "y_pred_lr = lr.predict(X_test)\n",
    "y_pred_rf = rf.predict(X_test)\n",
    "\n",
    "# Evaluation function\n",
    "def eval_model(y_true, y_pred):\n",
    "    mae = mean_absolute_error(y_true, y_pred)\n",
    "    mse = mean_squared_error(y_true, y_pred)\n",
    "    rmse = np.sqrt(mse)\n",
    "    r2 = r2_score(y_true, y_pred)\n",
    "    return mae, mse, rmse, r2\n",
    "\n",
    "lr_metrics = eval_model(y_test, y_pred_lr)\n",
    "rf_metrics = eval_model(y_test, y_pred_rf)\n",
    "\n",
    "print('Linear Regression MAE: {:.3f}, RMSE: {:.3f}, R2: {:.3f}'.format(lr_metrics[0], lr_metrics[2], lr_metrics[3]))\n",
    "print('Random Forest MAE: {:.3f}, RMSE: {:.3f}, R2: {:.3f}'.format(rf_metrics[0], rf_metrics[2], rf_metrics[3]))\n"
   ]
  },
  {
   "cell_type": "code",
   "execution_count": null,
   "id": "2d6c7e39",
   "metadata": {},
   "outputs": [],
   "source": [
    "# Feature importance from Random Forest\n",
    "import pandas as pd\n",
    "feat_imp = pd.Series(rf.feature_importances_, index=X.columns).sort_values(ascending=False)\n",
    "feat_imp.plot(kind='bar', figsize=(10,5))\n",
    "plt.title('Feature Importances')\n",
    "plt.show()\n"
   ]
  },
  {
   "cell_type": "code",
   "execution_count": null,
   "id": "b1ba71c8",
   "metadata": {},
   "outputs": [],
   "source": [
    "# Save the trained Random Forest model\n",
    "import joblib\n",
    "joblib.dump(rf, 'rf_car_price_model.joblib')\n",
    "print('Saved model to rf_car_price_model.joblib')\n"
   ]
  },
  {
   "cell_type": "markdown",
   "id": "30819b65",
   "metadata": {},
   "source": [
    "## Conclusion\n",
    "\n",
    "Random Forest typically outperforms Linear Regression here. Check the R² and RMSE values above to decide which model to use. Save the notebook and include it in your GitHub repo along with `car data.csv`."
   ]
  }
 ],
 "metadata": {},
 "nbformat": 4,
 "nbformat_minor": 5
}
